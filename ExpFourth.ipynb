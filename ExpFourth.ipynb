{
 "cells": [
  {
   "cell_type": "code",
   "execution_count": 98,
   "id": "132df3a7-ac01-49e0-856a-ddbd57fddf6c",
   "metadata": {},
   "outputs": [],
   "source": [
    "import pandas as pd\n",
    "import numpy as np\n",
    "import matplotlib.pyplot as plt\n",
    "import cv2\n",
    "from sklearn.preprocessing import LabelEncoder\n",
    "from sklearn.model_selection import train_test_split\n",
    "from tensorflow.keras.models import Sequential\n",
    "from tensorflow.keras.layers import Conv2D, MaxPooling2D, Flatten, Dense\n"
   ]
  },
  {
   "cell_type": "code",
   "execution_count": 99,
   "id": "46f2999c-2aee-48c7-84fb-2e76564a315a",
   "metadata": {},
   "outputs": [],
   "source": [
    "# Load the CSV file\n",
    "data = pd.read_csv('datasets/english.csv')\n"
   ]
  },
  {
   "cell_type": "code",
   "execution_count": 100,
   "id": "b30277b9-02ce-48bd-95ab-8dabd19e7a7c",
   "metadata": {},
   "outputs": [],
   "source": [
    "data=data[(data['label']=='1') | (data['label']=='0')]\n"
   ]
  },
  {
   "cell_type": "code",
   "execution_count": 101,
   "id": "ecb97594-2c37-4dbf-a9ac-3b3d1cca22c4",
   "metadata": {},
   "outputs": [],
   "source": [
    "encoder=LabelEncoder()\n",
    "data['label']=encoder.fit_transform(data[\"label\"])\n"
   ]
  },
  {
   "cell_type": "code",
   "execution_count": 48,
   "id": "70b08628-0b0f-456e-8740-389be223d8fb",
   "metadata": {},
   "outputs": [],
   "source": [
    "# Preprocess the images and labels\n",
    "x = []\n",
    "y = []\n",
    "for index, row in data.iterrows():\n",
    "    img = cv2.imread('datasets/' + row['image'])  # Prepend the folder name to the image path\n",
    "    if img is None:\n",
    "        print(f\"Failed to load image: {row['image']}\")\n",
    "        continue\n",
    "    img = cv2.resize(img, (224, 224))    # Resize the image\n",
    "    img = img / 255.0                    # Normalize pixel values\n",
    "    x.append(img)\n",
    "    y.append(row['label'])\n",
    "\n",
    "x = np.array(x)\n",
    "y = np.array(y)\n"
   ]
  },
  {
   "cell_type": "code",
   "execution_count": 49,
   "id": "e27165b4-7a15-458b-9fc0-228a35d05eab",
   "metadata": {},
   "outputs": [],
   "source": [
    "# Split the dataset into training, validation, and test sets\n",
    "x_train, x_test, y_train, y_test = train_test_split(x, y, test_size=0.15, random_state=42)\n",
    "x_train, x_val, y_train, y_val = train_test_split(x_train, y_train, test_size=0.15, random_state=42)\n"
   ]
  },
  {
   "cell_type": "code",
   "execution_count": 50,
   "id": "a61d027f-0907-4cd5-9ad6-6e505b1f0776",
   "metadata": {},
   "outputs": [
    {
     "name": "stderr",
     "output_type": "stream",
     "text": [
      "C:\\Users\\abdul saboor\\AppData\\Local\\Programs\\Python\\Python312\\Lib\\site-packages\\keras\\src\\layers\\convolutional\\base_conv.py:99: UserWarning: Do not pass an `input_shape`/`input_dim` argument to a layer. When using Sequential models, prefer using an `Input(shape)` object as the first layer in the model instead.\n",
      "  super().__init__(\n"
     ]
    }
   ],
   "source": [
    "# Define the CNN model\n",
    "model = Sequential([\n",
    "    Conv2D(32, (3, 3), activation='relu', input_shape=(224, 224, 3)),\n",
    "    MaxPooling2D((2, 2)),\n",
    "    Conv2D(64, (3, 3), activation='relu'),\n",
    "    MaxPooling2D((2, 2)),\n",
    "    Conv2D(64, (3, 3), activation='relu'),\n",
    "    Flatten(),\n",
    "    Dense(64, activation='relu'),\n",
    "    Dense(1, activation='sigmoid')  # Change the activation to softmax for multi-class classification\n",
    "])\n",
    "\n"
   ]
  },
  {
   "cell_type": "code",
   "execution_count": 53,
   "id": "6203b65f-0358-42d6-957c-06c371f78712",
   "metadata": {},
   "outputs": [],
   "source": [
    "# Compile the model\n",
    "model.compile(optimizer='adam', loss='binary_crossentropy', metrics=['accuracy'])\n"
   ]
  },
  {
   "cell_type": "code",
   "execution_count": 54,
   "id": "6575794a-e8f9-4d26-a792-c57e47cf527e",
   "metadata": {},
   "outputs": [
    {
     "name": "stdout",
     "output_type": "stream",
     "text": [
      "Epoch 1/10\n",
      "\u001b[1m3/3\u001b[0m \u001b[32m━━━━━━━━━━━━━━━━━━━━\u001b[0m\u001b[37m\u001b[0m \u001b[1m118s\u001b[0m 12s/step - accuracy: 0.5519 - loss: 3.2584 - val_accuracy: 0.5000 - val_loss: 3.9555\n",
      "Epoch 2/10\n",
      "\u001b[1m3/3\u001b[0m \u001b[32m━━━━━━━━━━━━━━━━━━━━\u001b[0m\u001b[37m\u001b[0m \u001b[1m33s\u001b[0m 10s/step - accuracy: 0.5329 - loss: 2.6300 - val_accuracy: 0.5000 - val_loss: 0.8239\n",
      "Epoch 3/10\n",
      "\u001b[1m3/3\u001b[0m \u001b[32m━━━━━━━━━━━━━━━━━━━━\u001b[0m\u001b[37m\u001b[0m \u001b[1m33s\u001b[0m 10s/step - accuracy: 0.4842 - loss: 0.7605 - val_accuracy: 0.5000 - val_loss: 0.6483\n",
      "Epoch 4/10\n",
      "\u001b[1m3/3\u001b[0m \u001b[32m━━━━━━━━━━━━━━━━━━━━\u001b[0m\u001b[37m\u001b[0m \u001b[1m33s\u001b[0m 10s/step - accuracy: 0.5212 - loss: 0.6269 - val_accuracy: 0.5000 - val_loss: 0.6329\n",
      "Epoch 5/10\n",
      "\u001b[1m3/3\u001b[0m \u001b[32m━━━━━━━━━━━━━━━━━━━━\u001b[0m\u001b[37m\u001b[0m \u001b[1m35s\u001b[0m 11s/step - accuracy: 0.6962 - loss: 0.5908 - val_accuracy: 0.5714 - val_loss: 0.5384\n",
      "Epoch 6/10\n",
      "\u001b[1m3/3\u001b[0m \u001b[32m━━━━━━━━━━━━━━━━━━━━\u001b[0m\u001b[37m\u001b[0m \u001b[1m34s\u001b[0m 10s/step - accuracy: 0.6835 - loss: 0.5065 - val_accuracy: 0.7857 - val_loss: 0.4906\n",
      "Epoch 7/10\n",
      "\u001b[1m3/3\u001b[0m \u001b[32m━━━━━━━━━━━━━━━━━━━━\u001b[0m\u001b[37m\u001b[0m \u001b[1m47s\u001b[0m 11s/step - accuracy: 0.8830 - loss: 0.4171 - val_accuracy: 0.7857 - val_loss: 0.3651\n",
      "Epoch 8/10\n",
      "\u001b[1m3/3\u001b[0m \u001b[32m━━━━━━━━━━━━━━━━━━━━\u001b[0m\u001b[37m\u001b[0m \u001b[1m34s\u001b[0m 10s/step - accuracy: 0.9025 - loss: 0.2687 - val_accuracy: 0.8571 - val_loss: 0.2807\n",
      "Epoch 9/10\n",
      "\u001b[1m3/3\u001b[0m \u001b[32m━━━━━━━━━━━━━━━━━━━━\u001b[0m\u001b[37m\u001b[0m \u001b[1m29s\u001b[0m 8s/step - accuracy: 0.9576 - loss: 0.1659 - val_accuracy: 0.8571 - val_loss: 0.2614\n",
      "Epoch 10/10\n",
      "\u001b[1m3/3\u001b[0m \u001b[32m━━━━━━━━━━━━━━━━━━━━\u001b[0m\u001b[37m\u001b[0m \u001b[1m28s\u001b[0m 8s/step - accuracy: 0.9605 - loss: 0.1599 - val_accuracy: 0.8571 - val_loss: 0.2702\n"
     ]
    },
    {
     "data": {
      "text/plain": [
       "<keras.src.callbacks.history.History at 0x13d69e42bd0>"
      ]
     },
     "execution_count": 54,
     "metadata": {},
     "output_type": "execute_result"
    }
   ],
   "source": [
    "\n",
    "# Train the model\n",
    "model.fit(x_train, y_train, epochs=10, batch_size=32, validation_data=(x_val, y_val))\n"
   ]
  },
  {
   "cell_type": "code",
   "execution_count": 65,
   "id": "1b593150-a9cf-4b08-8c05-361b37896196",
   "metadata": {},
   "outputs": [
    {
     "name": "stdout",
     "output_type": "stream",
     "text": [
      "\u001b[1m1/1\u001b[0m \u001b[32m━━━━━━━━━━━━━━━━━━━━\u001b[0m\u001b[37m\u001b[0m \u001b[1m2s\u001b[0m 2s/step - accuracy: 0.9412 - loss: 0.2664\n",
      "Test accuracy: 0.9411764740943909\n"
     ]
    }
   ],
   "source": [
    "\n",
    "# # Evaluate the model\n",
    "test_loss, test_acc = model.evaluate(x_test, y_test)\n",
    "print('Test accuracy:', test_acc)\n",
    "\n",
    "# # Save the model\n",
    "# model.save('image_classifier_model.h5')"
   ]
  },
  {
   "cell_type": "code",
   "execution_count": 106,
   "id": "efee0e4a-4809-46ae-acfb-c056a30ea110",
   "metadata": {},
   "outputs": [
    {
     "name": "stdout",
     "output_type": "stream",
     "text": [
      "0\n"
     ]
    }
   ],
   "source": [
    "# Select a random sample from the test set\n",
    "sample_index = np.random.randint(0, len(x_test))\n",
    "sample_image = x_test[sample_index]\n",
    "sample_label = y_test[sample_index]\n",
    "print(sample_label)"
   ]
  },
  {
   "cell_type": "code",
   "execution_count": 107,
   "id": "1797b6d8-7cd1-4ec5-ba94-edafa5ea0f61",
   "metadata": {
    "scrolled": true
   },
   "outputs": [
    {
     "name": "stdout",
     "output_type": "stream",
     "text": [
      "\u001b[1m1/1\u001b[0m \u001b[32m━━━━━━━━━━━━━━━━━━━━\u001b[0m\u001b[37m\u001b[0m \u001b[1m0s\u001b[0m 302ms/step\n"
     ]
    },
    {
     "data": {
      "image/png": "[encoded data removed]",
      "text/plain": [
       "<Figure size 640x480 with 1 Axes>"
      ]
     },
     "metadata": {},
     "output_type": "display_data"
    }
   ],
   "source": [
    "# Get the model's prediction for the selected sample\n",
    "for x in sample\n",
    "    prediction = model.predict(np.expand_dims(sample_image, axis=0))\n",
    "    predicted_label = np.argmax(prediction)\n",
    "    \n",
    "    # Plot the sample image and its predicted label\n",
    "    plt.imshow(sample_image, cmap='gray')  # Plot the grayscale image directly\n",
    "    plt.title(f\"Predicted: {predicted_label}, True: {np.argmax(sample_label)}\")\n",
    "    plt.axis('off')\n",
    "    plt.show()"
   ]
  },
  {
   "cell_type": "code",
   "execution_count": null,
   "id": "8d08bb51-1051-427f-9caa-2eea4810e38d",
   "metadata": {},
   "outputs": [],
   "source": []
  }
 ],
 "metadata": {
  "kernelspec": {
   "display_name": "Python 3 (ipykernel)",
   "language": "python",
   "name": "python3"
  },
  "language_info": {
   "codemirror_mode": {
    "name": "ipython",
    "version": 3
   },
   "file_extension": ".py",
   "mimetype": "text/x-python",
   "name": "python",
   "nbconvert_exporter": "python",
   "pygments_lexer": "ipython3",
   "version": "3.12.1"
  }
 },
 "nbformat": 4,
 "nbformat_minor": 5
}
