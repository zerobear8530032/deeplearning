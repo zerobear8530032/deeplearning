{
 "cells": [
  {
   "cell_type": "code",
   "execution_count": 3,
   "id": "9feba012-4181-4faa-aa1a-1dd4a62b872d",
   "metadata": {},
   "outputs": [],
   "source": [
    "import pandas as pd\n",
    "from sklearn.model_selection import train_test_split\n",
    "from tensorflow.keras.preprocessing.text import Tokenizer\n",
    "from tensorflow.keras.preprocessing.sequence import pad_sequences\n",
    "from tensorflow.keras.models import Sequential\n",
    "from tensorflow.keras.layers import Embedding, SimpleRNN, Dense\n",
    "\n"
   ]
  },
  {
   "cell_type": "code",
   "execution_count": 26,
   "id": "d14f626d-0aa8-49c0-b2ae-0274eba80fcc",
   "metadata": {},
   "outputs": [
    {
     "data": {
      "text/html": [
       "<div>\n",
       "<style scoped>\n",
       "    .dataframe tbody tr th:only-of-type {\n",
       "        vertical-align: middle;\n",
       "    }\n",
       "\n",
       "    .dataframe tbody tr th {\n",
       "        vertical-align: top;\n",
       "    }\n",
       "\n",
       "    .dataframe thead th {\n",
       "        text-align: right;\n",
       "    }\n",
       "</style>\n",
       "<table border=\"1\" class=\"dataframe\">\n",
       "  <thead>\n",
       "    <tr style=\"text-align: right;\">\n",
       "      <th></th>\n",
       "      <th>ID</th>\n",
       "      <th>Mail</th>\n",
       "      <th>Text</th>\n",
       "      <th>Label</th>\n",
       "    </tr>\n",
       "  </thead>\n",
       "  <tbody>\n",
       "    <tr>\n",
       "      <th>0</th>\n",
       "      <td>1</td>\n",
       "      <td>ham</td>\n",
       "      <td>Subject: christmas tree farm pictures\\r\\n</td>\n",
       "      <td>0</td>\n",
       "    </tr>\n",
       "    <tr>\n",
       "      <th>1</th>\n",
       "      <td>2</td>\n",
       "      <td>ham</td>\n",
       "      <td>Subject: vastar resources , inc .\\r\\ngary , pr...</td>\n",
       "      <td>0</td>\n",
       "    </tr>\n",
       "    <tr>\n",
       "      <th>2</th>\n",
       "      <td>3</td>\n",
       "      <td>ham</td>\n",
       "      <td>Subject: calpine daily gas nomination\\r\\n- cal...</td>\n",
       "      <td>0</td>\n",
       "    </tr>\n",
       "    <tr>\n",
       "      <th>3</th>\n",
       "      <td>4</td>\n",
       "      <td>ham</td>\n",
       "      <td>Subject: re : issue\\r\\nfyi - see note below - ...</td>\n",
       "      <td>0</td>\n",
       "    </tr>\n",
       "    <tr>\n",
       "      <th>4</th>\n",
       "      <td>5</td>\n",
       "      <td>ham</td>\n",
       "      <td>Subject: meter 7268 nov allocation\\r\\nfyi .\\r\\...</td>\n",
       "      <td>0</td>\n",
       "    </tr>\n",
       "    <tr>\n",
       "      <th>...</th>\n",
       "      <td>...</td>\n",
       "      <td>...</td>\n",
       "      <td>...</td>\n",
       "      <td>...</td>\n",
       "    </tr>\n",
       "    <tr>\n",
       "      <th>5166</th>\n",
       "      <td>5167</td>\n",
       "      <td>spam</td>\n",
       "      <td>Subject: our pro - forma invoice attached\\r\\nd...</td>\n",
       "      <td>1</td>\n",
       "    </tr>\n",
       "    <tr>\n",
       "      <th>5167</th>\n",
       "      <td>5168</td>\n",
       "      <td>spam</td>\n",
       "      <td>Subject: str _ rndlen ( 2 - 4 ) } { extra _ ti...</td>\n",
       "      <td>1</td>\n",
       "    </tr>\n",
       "    <tr>\n",
       "      <th>5168</th>\n",
       "      <td>5169</td>\n",
       "      <td>spam</td>\n",
       "      <td>Subject: check me out !\\r\\n61 bb\\r\\nhey derm\\r...</td>\n",
       "      <td>1</td>\n",
       "    </tr>\n",
       "    <tr>\n",
       "      <th>5169</th>\n",
       "      <td>5170</td>\n",
       "      <td>spam</td>\n",
       "      <td>Subject: hot jobs\\r\\nglobal marketing specialt...</td>\n",
       "      <td>1</td>\n",
       "    </tr>\n",
       "    <tr>\n",
       "      <th>5170</th>\n",
       "      <td>5171</td>\n",
       "      <td>spam</td>\n",
       "      <td>Subject: save up to 89 % on ink + no shipping ...</td>\n",
       "      <td>1</td>\n",
       "    </tr>\n",
       "  </tbody>\n",
       "</table>\n",
       "<p>5171 rows × 4 columns</p>\n",
       "</div>"
      ],
      "text/plain": [
       "        ID  Mail                                               Text  Label\n",
       "0        1   ham          Subject: christmas tree farm pictures\\r\\n      0\n",
       "1        2   ham  Subject: vastar resources , inc .\\r\\ngary , pr...      0\n",
       "2        3   ham  Subject: calpine daily gas nomination\\r\\n- cal...      0\n",
       "3        4   ham  Subject: re : issue\\r\\nfyi - see note below - ...      0\n",
       "4        5   ham  Subject: meter 7268 nov allocation\\r\\nfyi .\\r\\...      0\n",
       "...    ...   ...                                                ...    ...\n",
       "5166  5167  spam  Subject: our pro - forma invoice attached\\r\\nd...      1\n",
       "5167  5168  spam  Subject: str _ rndlen ( 2 - 4 ) } { extra _ ti...      1\n",
       "5168  5169  spam  Subject: check me out !\\r\\n61 bb\\r\\nhey derm\\r...      1\n",
       "5169  5170  spam  Subject: hot jobs\\r\\nglobal marketing specialt...      1\n",
       "5170  5171  spam  Subject: save up to 89 % on ink + no shipping ...      1\n",
       "\n",
       "[5171 rows x 4 columns]"
      ]
     },
     "execution_count": 26,
     "metadata": {},
     "output_type": "execute_result"
    }
   ],
   "source": [
    "data=pd.read_csv('datasets/Spam Email.csv')\n",
    "data"
   ]
  },
  {
   "cell_type": "code",
   "execution_count": 27,
   "id": "64947110-a6cf-4769-bbae-4f8d10e33958",
   "metadata": {},
   "outputs": [],
   "source": [
    "data=data.drop(columns=[\"ID\",\"Mail\"])"
   ]
  },
  {
   "cell_type": "code",
   "execution_count": 28,
   "id": "a63bca92-6f7d-43dc-a269-185906267322",
   "metadata": {},
   "outputs": [
    {
     "data": {
      "text/html": [
       "<div>\n",
       "<style scoped>\n",
       "    .dataframe tbody tr th:only-of-type {\n",
       "        vertical-align: middle;\n",
       "    }\n",
       "\n",
       "    .dataframe tbody tr th {\n",
       "        vertical-align: top;\n",
       "    }\n",
       "\n",
       "    .dataframe thead th {\n",
       "        text-align: right;\n",
       "    }\n",
       "</style>\n",
       "<table border=\"1\" class=\"dataframe\">\n",
       "  <thead>\n",
       "    <tr style=\"text-align: right;\">\n",
       "      <th></th>\n",
       "      <th>Text</th>\n",
       "      <th>Label</th>\n",
       "    </tr>\n",
       "  </thead>\n",
       "  <tbody>\n",
       "    <tr>\n",
       "      <th>0</th>\n",
       "      <td>Subject: christmas tree farm pictures\\r\\n</td>\n",
       "      <td>0</td>\n",
       "    </tr>\n",
       "    <tr>\n",
       "      <th>1</th>\n",
       "      <td>Subject: vastar resources , inc .\\r\\ngary , pr...</td>\n",
       "      <td>0</td>\n",
       "    </tr>\n",
       "    <tr>\n",
       "      <th>2</th>\n",
       "      <td>Subject: calpine daily gas nomination\\r\\n- cal...</td>\n",
       "      <td>0</td>\n",
       "    </tr>\n",
       "    <tr>\n",
       "      <th>3</th>\n",
       "      <td>Subject: re : issue\\r\\nfyi - see note below - ...</td>\n",
       "      <td>0</td>\n",
       "    </tr>\n",
       "    <tr>\n",
       "      <th>4</th>\n",
       "      <td>Subject: meter 7268 nov allocation\\r\\nfyi .\\r\\...</td>\n",
       "      <td>0</td>\n",
       "    </tr>\n",
       "    <tr>\n",
       "      <th>...</th>\n",
       "      <td>...</td>\n",
       "      <td>...</td>\n",
       "    </tr>\n",
       "    <tr>\n",
       "      <th>5166</th>\n",
       "      <td>Subject: our pro - forma invoice attached\\r\\nd...</td>\n",
       "      <td>1</td>\n",
       "    </tr>\n",
       "    <tr>\n",
       "      <th>5167</th>\n",
       "      <td>Subject: str _ rndlen ( 2 - 4 ) } { extra _ ti...</td>\n",
       "      <td>1</td>\n",
       "    </tr>\n",
       "    <tr>\n",
       "      <th>5168</th>\n",
       "      <td>Subject: check me out !\\r\\n61 bb\\r\\nhey derm\\r...</td>\n",
       "      <td>1</td>\n",
       "    </tr>\n",
       "    <tr>\n",
       "      <th>5169</th>\n",
       "      <td>Subject: hot jobs\\r\\nglobal marketing specialt...</td>\n",
       "      <td>1</td>\n",
       "    </tr>\n",
       "    <tr>\n",
       "      <th>5170</th>\n",
       "      <td>Subject: save up to 89 % on ink + no shipping ...</td>\n",
       "      <td>1</td>\n",
       "    </tr>\n",
       "  </tbody>\n",
       "</table>\n",
       "<p>5171 rows × 2 columns</p>\n",
       "</div>"
      ],
      "text/plain": [
       "                                                   Text  Label\n",
       "0             Subject: christmas tree farm pictures\\r\\n      0\n",
       "1     Subject: vastar resources , inc .\\r\\ngary , pr...      0\n",
       "2     Subject: calpine daily gas nomination\\r\\n- cal...      0\n",
       "3     Subject: re : issue\\r\\nfyi - see note below - ...      0\n",
       "4     Subject: meter 7268 nov allocation\\r\\nfyi .\\r\\...      0\n",
       "...                                                 ...    ...\n",
       "5166  Subject: our pro - forma invoice attached\\r\\nd...      1\n",
       "5167  Subject: str _ rndlen ( 2 - 4 ) } { extra _ ti...      1\n",
       "5168  Subject: check me out !\\r\\n61 bb\\r\\nhey derm\\r...      1\n",
       "5169  Subject: hot jobs\\r\\nglobal marketing specialt...      1\n",
       "5170  Subject: save up to 89 % on ink + no shipping ...      1\n",
       "\n",
       "[5171 rows x 2 columns]"
      ]
     },
     "execution_count": 28,
     "metadata": {},
     "output_type": "execute_result"
    }
   ],
   "source": [
    "data"
   ]
  },
  {
   "cell_type": "code",
   "execution_count": 29,
   "id": "d6cc1f48-735f-420d-af08-419ad0bf9e73",
   "metadata": {},
   "outputs": [],
   "source": [
    "# Preprocess the text data (e.g., remove punctuation, tokenize, lowercase)\n",
    "# Split the data into training and testing sets\n",
    "x_train, x_test, y_train, y_test = train_test_split(data['Text'], data['Label'], test_size=0.2, random_state=42)\n"
   ]
  },
  {
   "cell_type": "code",
   "execution_count": 30,
   "id": "8adcb1bd-1a22-4575-b6ba-70a88d29dea8",
   "metadata": {},
   "outputs": [],
   "source": [
    "\n",
    "# Tokenization and padding\n",
    "tokenizer = Tokenizer(num_words=10000)\n",
    "tokenizer.fit_on_texts(x_train)\n",
    "x_train_seq = tokenizer.texts_to_sequences(x_train)\n",
    "x_test_seq = tokenizer.texts_to_sequences(x_test)\n",
    "maxlen = 100  # Maximum length of sequences\n",
    "x_train_pad = pad_sequences(x_train_seq, maxlen=maxlen)\n",
    "x_test_pad = pad_sequences(x_test_seq, maxlen=maxlen)\n"
   ]
  },
  {
   "cell_type": "code",
   "execution_count": 32,
   "id": "d17be9ac-05d4-4996-9163-06699d3be75c",
   "metadata": {},
   "outputs": [
    {
     "data": {
      "text/plain": [
       "array([[   0,    0,    0, ...,  144, 7394, 1583],\n",
       "       [ 190,   18, 1003, ...,   62,    1,  196],\n",
       "       [1808,   26,    2, ..., 6687, 7401, 8387],\n",
       "       ...,\n",
       "       [   0,    0,    0, ...,   30,    1, 1870],\n",
       "       [   0,    0,    0, ...,  610,    2, 5323],\n",
       "       [   1,   16,  880, ...,  744,    1,  278]])"
      ]
     },
     "execution_count": 32,
     "metadata": {},
     "output_type": "execute_result"
    }
   ],
   "source": []
  },
  {
   "cell_type": "code",
   "execution_count": 33,
   "id": "6a0de550-e6d5-467b-b986-40791b237c19",
   "metadata": {},
   "outputs": [],
   "source": [
    "\n",
    "# Define the RNN model\n",
    "model = Sequential()\n",
    "model.add(Embedding(input_dim=10000, output_dim=32, input_length=maxlen))\n",
    "model.add(SimpleRNN(units=32))\n",
    "model.add(Dense(units=1, activation='sigmoid'))\n"
   ]
  },
  {
   "cell_type": "code",
   "execution_count": 35,
   "id": "2fd6f081-10f5-4370-a08f-1d2d9278d975",
   "metadata": {},
   "outputs": [],
   "source": [
    "\n",
    "# Compile the model\n",
    "model.compile(optimizer='adam', loss='binary_crossentropy', metrics=['accuracy'])\n"
   ]
  },
  {
   "cell_type": "code",
   "execution_count": 36,
   "id": "4fa92750-507d-467a-ba10-1685d7070de9",
   "metadata": {},
   "outputs": [
    {
     "name": "stdout",
     "output_type": "stream",
     "text": [
      "Epoch 1/5\n",
      "\u001b[1m26/26\u001b[0m \u001b[32m━━━━━━━━━━━━━━━━━━━━\u001b[0m\u001b[37m\u001b[0m \u001b[1m24s\u001b[0m 221ms/step - accuracy: 0.6632 - loss: 0.6130 - val_accuracy: 0.7138 - val_loss: 0.5274\n",
      "Epoch 2/5\n",
      "\u001b[1m26/26\u001b[0m \u001b[32m━━━━━━━━━━━━━━━━━━━━\u001b[0m\u001b[37m\u001b[0m \u001b[1m4s\u001b[0m 138ms/step - accuracy: 0.7978 - loss: 0.4559 - val_accuracy: 0.9118 - val_loss: 0.3169\n",
      "Epoch 3/5\n",
      "\u001b[1m26/26\u001b[0m \u001b[32m━━━━━━━━━━━━━━━━━━━━\u001b[0m\u001b[37m\u001b[0m \u001b[1m5s\u001b[0m 138ms/step - accuracy: 0.9509 - loss: 0.2077 - val_accuracy: 0.9336 - val_loss: 0.1945\n",
      "Epoch 4/5\n",
      "\u001b[1m26/26\u001b[0m \u001b[32m━━━━━━━━━━━━━━━━━━━━\u001b[0m\u001b[37m\u001b[0m \u001b[1m5s\u001b[0m 134ms/step - accuracy: 0.9809 - loss: 0.0908 - val_accuracy: 0.9336 - val_loss: 0.1736\n",
      "Epoch 5/5\n",
      "\u001b[1m26/26\u001b[0m \u001b[32m━━━━━━━━━━━━━━━━━━━━\u001b[0m\u001b[37m\u001b[0m \u001b[1m6s\u001b[0m 150ms/step - accuracy: 0.9887 - loss: 0.0610 - val_accuracy: 0.9372 - val_loss: 0.1559\n"
     ]
    }
   ],
   "source": [
    "\n",
    "# Train the model\n",
    "history = model.fit(x_train_pad, y_train, epochs=5, batch_size=128, validation_split=0.2)\n"
   ]
  },
  {
   "cell_type": "code",
   "execution_count": 37,
   "id": "62911333-fe51-417a-b28f-6782f4d4e21c",
   "metadata": {},
   "outputs": [
    {
     "name": "stdout",
     "output_type": "stream",
     "text": [
      "\u001b[1m33/33\u001b[0m \u001b[32m━━━━━━━━━━━━━━━━━━━━\u001b[0m\u001b[37m\u001b[0m \u001b[1m1s\u001b[0m 25ms/step - accuracy: 0.9397 - loss: 0.1532\n",
      "Test accuracy: 0.939130425453186\n"
     ]
    }
   ],
   "source": [
    "\n",
    "# Evaluate the model\n",
    "test_loss, test_acc = model.evaluate(x_test_pad, y_test)\n",
    "print(f'Test accuracy: {test_acc}')"
   ]
  },
  {
   "cell_type": "code",
   "execution_count": 40,
   "id": "d58877af-782a-47ec-86c9-86f1c9dff5be",
   "metadata": {},
   "outputs": [
    {
     "name": "stdout",
     "output_type": "stream",
     "text": [
      "\u001b[1m1/1\u001b[0m \u001b[32m━━━━━━━━━━━━━━━━━━━━\u001b[0m\u001b[37m\u001b[0m \u001b[1m0s\u001b[0m 180ms/step\n",
      "[[0.01968108]]\n",
      "0\n"
     ]
    }
   ],
   "source": [
    "# Reshape the individual sequence to match the expected input shape\n",
    "individual_sequence = x_test_pad[1].reshape(1, -1)\n",
    "\n",
    "# Predict on the reshaped individual sequence\n",
    "prediction = model.predict(individual_sequence)\n",
    "print(prediction)\n",
    "\n",
    "# Print the corresponding true label\n",
    "print(y_test.iloc[1])\n"
   ]
  },
  {
   "cell_type": "code",
   "execution_count": null,
   "id": "6525a2bb-8301-47d5-93b3-1dd67d422e94",
   "metadata": {},
   "outputs": [],
   "source": []
  }
 ],
 "metadata": {
  "kernelspec": {
   "display_name": "Python 3 (ipykernel)",
   "language": "python",
   "name": "python3"
  },
  "language_info": {
   "codemirror_mode": {
    "name": "ipython",
    "version": 3
   },
   "file_extension": ".py",
   "mimetype": "text/x-python",
   "name": "python",
   "nbconvert_exporter": "python",
   "pygments_lexer": "ipython3",
   "version": "3.12.1"
  }
 },
 "nbformat": 4,
 "nbformat_minor": 5
}
