{
 "cells": [
  {
   "cell_type": "code",
   "execution_count": 19,
   "id": "2d1be794-02ce-486c-bf23-a58aa24bd401",
   "metadata": {},
   "outputs": [],
   "source": [
    "import numpy as np\n",
    "import tensorflow as tf\n",
    "from sklearn.linear_model import LogisticRegression\n",
    "from tensorflow.keras.datasets import mnist\n",
    "from tensorflow.keras.utils import to_categorical\n"
   ]
  },
  {
   "cell_type": "code",
   "execution_count": 9,
   "id": "8f06e51d-93e4-42f0-96dc-2e59ae7b9946",
   "metadata": {},
   "outputs": [],
   "source": [
    "# Load MNIST data\n",
    "(x_train, y_train), (x_test, y_test) = mnist.load_data()\n",
    "\n",
    "# Preprocess data\n",
    "x_train = x_train.astype('float32') / 255.\n",
    "x_test = x_test.astype('float32') / 255.\n",
    "x_train = np.reshape(x_train, (len(x_train), 28*28))\n",
    "x_test = np.reshape(x_test, (len(x_test), 28*28))\n",
    "y_train = to_categorical(y_train, 10)\n",
    "y_test = to_categorical(y_test, 10)"
   ]
  },
  {
   "cell_type": "code",
   "execution_count": 24,
   "id": "6d9fa3d5-eab2-4831-b36c-3b5a3f526240",
   "metadata": {},
   "outputs": [],
   "source": [
    "class RBM:\n",
    "    def __init__(self, num_visible, num_hidden):\n",
    "        self.num_visible = num_visible\n",
    "        self.num_hidden = num_hidden\n",
    "        self.weights = tf.Variable(tf.random.normal([num_visible, num_hidden], stddev=0.1))\n",
    "        self.visible_bias = tf.Variable(tf.zeros([num_visible]))\n",
    "        self.hidden_bias = tf.Variable(tf.zeros([num_hidden]))\n",
    "\n",
    "    def prob_hidden_given_visible(self, visible):\n",
    "        return tf.nn.sigmoid(tf.matmul(visible, self.weights) + self.hidden_bias)\n",
    "\n",
    "    def prob_visible_given_hidden(self, hidden):\n",
    "        return tf.nn.sigmoid(tf.matmul(hidden, tf.transpose(self.weights)) + self.visible_bias)\n",
    "\n",
    "    def sample_prob(self, probs):\n",
    "        return tf.nn.relu(tf.sign(probs - tf.random.uniform(tf.shape(probs))))\n",
    "\n",
    "    def gibbs_sample(self, visible):\n",
    "        hidden_prob = self.prob_hidden_given_visible(visible)\n",
    "        hidden_sample = self.sample_prob(hidden_prob)\n",
    "        visible_prob = self.prob_visible_given_hidden(hidden_sample)\n",
    "        return visible_prob, hidden_sample\n",
    "\n",
    "    def contrastive_divergence(self, input_data, learning_rate=0.1, k=1):\n",
    "        positive_hidden_prob = self.prob_hidden_given_visible(input_data)\n",
    "\n",
    "        # Gibbs Sampling\n",
    "        chain_start = input_data\n",
    "        for step in range(k):\n",
    "            if step == 0:\n",
    "                visible_prob, hidden_sample = self.gibbs_sample(chain_start)\n",
    "            else:\n",
    "                visible_prob, hidden_sample = self.gibbs_sample(visible_prob)\n",
    "        \n",
    "        negative_visible_prob = visible_prob\n",
    "\n",
    "        # Compute gradients\n",
    "        positive_associations = tf.matmul(tf.transpose(input_data), positive_hidden_prob)\n",
    "        negative_associations = tf.matmul(tf.transpose(negative_visible_prob), hidden_sample)\n",
    "\n",
    "        # Update parameters\n",
    "        self.weights.assign_add(learning_rate * (positive_associations - negative_associations))\n",
    "        self.visible_bias.assign_add(learning_rate * tf.reduce_mean(input_data - negative_visible_prob, 0))\n",
    "        self.hidden_bias.assign_add(learning_rate * tf.reduce_mean(positive_hidden_prob - hidden_sample, 0))\n",
    "\n"
   ]
  },
  {
   "cell_type": "code",
   "execution_count": 11,
   "id": "9a3ad8b9-2e82-48c7-ac0a-d7c85c816c89",
   "metadata": {},
   "outputs": [],
   "source": [
    "# Example usage\n",
    "num_visible = 784  # Number of pixels in MNIST images (28x28)\n",
    "num_hidden = 256  # Number of hidden units in the RBM\n",
    "\n"
   ]
  },
  {
   "cell_type": "code",
   "execution_count": 25,
   "id": "01284191-1a07-4a16-935a-273811be4f85",
   "metadata": {},
   "outputs": [],
   "source": [
    "rbm = RBM(num_visible, num_hidden)\n"
   ]
  },
  {
   "cell_type": "code",
   "execution_count": 15,
   "id": "00d98c4a-1327-422b-b7cf-e2f05e9214ec",
   "metadata": {},
   "outputs": [],
   "source": [
    "for epoch in range(10):\n",
    "    for i in range(len(x_train) // 128):\n",
    "        batch_x = x_train[i*128:(i+1)*128]\n",
    "        rbm.contrastive_divergence(batch_x)\n",
    "        "
   ]
  },
  {
   "cell_type": "code",
   "execution_count": 16,
   "id": "d37aef65-87ce-451f-9959-f6971fa0e678",
   "metadata": {},
   "outputs": [],
   "source": [
    "\n",
    "# Extract features\n",
    "x_train_features = tf.nn.sigmoid(tf.matmul(x_train, rbm.weights) + rbm.hidden_bias)\n",
    "x_test_features = tf.nn.sigmoid(tf.matmul(x_test, rbm.weights) + rbm.hidden_bias)\n"
   ]
  },
  {
   "cell_type": "code",
   "execution_count": 21,
   "id": "d654435e-0376-4ff4-a5e0-744c617c02cd",
   "metadata": {},
   "outputs": [],
   "source": [
    "\n",
    "# Training logistic regression on top of RBM features\n",
    "logistic = LogisticRegression(max_iter=1000)  # Initialize logistic regression with default parameters\n",
    "optimizer = tf.keras.optimizers.Adam(learning_rate=0.01)\n"
   ]
  },
  {
   "cell_type": "code",
   "execution_count": 23,
   "id": "ab1d332f-c30a-41e5-8b6a-749976ad76c2",
   "metadata": {},
   "outputs": [
    {
     "name": "stdout",
     "output_type": "stream",
     "text": [
      "Training Accuracy: 0.4282\n",
      "Test Accuracy: 0.4239\n"
     ]
    }
   ],
   "source": [
    "# Fit the model to the training data\n",
    "logistic.fit(x_train_features, np.argmax(y_train, axis=1))\n",
    "\n",
    "# Predictions on training data\n",
    "pred_train = logistic.predict(x_train_features)\n",
    "\n",
    "# Predictions on test data\n",
    "pred_test = logistic.predict(x_test_features)\n",
    "\n",
    "# Evaluate model\n",
    "accuracy_train = np.mean(pred_train == np.argmax(y_train, axis=1))\n",
    "accuracy_test = np.mean(pred_test == np.argmax(y_test, axis=1))\n",
    "\n",
    "print(\"Training Accuracy:\", accuracy_train)\n",
    "print(\"Test Accuracy:\", accuracy_test)"
   ]
  },
  {
   "cell_type": "code",
   "execution_count": null,
   "id": "3d470317-e30b-4e45-ac24-d8f2637e3295",
   "metadata": {},
   "outputs": [],
   "source": []
  },
  {
   "cell_type": "code",
   "execution_count": null,
   "id": "f02bfee6-2b68-4f08-9cb6-67e27b3954e0",
   "metadata": {},
   "outputs": [],
   "source": []
  }
 ],
 "metadata": {
  "kernelspec": {
   "display_name": "Python 3 (ipykernel)",
   "language": "python",
   "name": "python3"
  },
  "language_info": {
   "codemirror_mode": {
    "name": "ipython",
    "version": 3
   },
   "file_extension": ".py",
   "mimetype": "text/x-python",
   "name": "python",
   "nbconvert_exporter": "python",
   "pygments_lexer": "ipython3",
   "version": "3.12.1"
  }
 },
 "nbformat": 4,
 "nbformat_minor": 5
}
